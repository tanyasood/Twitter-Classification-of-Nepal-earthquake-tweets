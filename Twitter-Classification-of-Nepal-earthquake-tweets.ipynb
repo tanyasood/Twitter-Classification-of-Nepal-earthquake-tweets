{
 "cells": [
  {
   "cell_type": "code",
   "execution_count": 1,
   "metadata": {},
   "outputs": [],
   "source": [
    "import pandas as pd\n",
    "import numpy as np\n",
    "import matplotlib.pyplot as plt"
   ]
  },
  {
   "cell_type": "code",
   "execution_count": 2,
   "metadata": {},
   "outputs": [
    {
     "data": {
      "text/html": [
       "<div>\n",
       "<style scoped>\n",
       "    .dataframe tbody tr th:only-of-type {\n",
       "        vertical-align: middle;\n",
       "    }\n",
       "\n",
       "    .dataframe tbody tr th {\n",
       "        vertical-align: top;\n",
       "    }\n",
       "\n",
       "    .dataframe thead th {\n",
       "        text-align: right;\n",
       "    }\n",
       "</style>\n",
       "<table border=\"1\" class=\"dataframe\">\n",
       "  <thead>\n",
       "    <tr style=\"text-align: right;\">\n",
       "      <th></th>\n",
       "      <th>0</th>\n",
       "      <th>1</th>\n",
       "      <th>2</th>\n",
       "      <th>3</th>\n",
       "      <th>4</th>\n",
       "      <th>5</th>\n",
       "      <th>6</th>\n",
       "      <th>7</th>\n",
       "      <th>8</th>\n",
       "    </tr>\n",
       "  </thead>\n",
       "  <tbody>\n",
       "    <tr>\n",
       "      <th>0</th>\n",
       "      <td>0</td>\n",
       "      <td>'591764470197723137'</td>\n",
       "      <td>'#Nepal #news Adding to Bhutanese Refugees Bh...</td>\n",
       "      <td>NaN</td>\n",
       "      <td>NaN</td>\n",
       "      <td>NaN</td>\n",
       "      <td>NaN</td>\n",
       "      <td>NaN</td>\n",
       "      <td>NaN</td>\n",
       "    </tr>\n",
       "    <tr>\n",
       "      <th>1</th>\n",
       "      <td>0</td>\n",
       "      <td>'591779538046218240'</td>\n",
       "      <td>\"The massacre of people's movement says peace...</td>\n",
       "      <td>NaN</td>\n",
       "      <td>NaN</td>\n",
       "      <td>NaN</td>\n",
       "      <td>NaN</td>\n",
       "      <td>NaN</td>\n",
       "      <td>NaN</td>\n",
       "    </tr>\n",
       "    <tr>\n",
       "      <th>2</th>\n",
       "      <td>0</td>\n",
       "      <td>'591728244925210624'</td>\n",
       "      <td>\"I'm lonely</td>\n",
       "      <td>maybe you're going to die without closing the...</td>\n",
       "      <td>I'm going to die.\"</td>\n",
       "      <td>NaN</td>\n",
       "      <td>NaN</td>\n",
       "      <td>NaN</td>\n",
       "      <td>NaN</td>\n",
       "    </tr>\n",
       "    <tr>\n",
       "      <th>3</th>\n",
       "      <td>0</td>\n",
       "      <td>'591774433926193152'</td>\n",
       "      <td>'#nepal #news 6 billion collection collection...</td>\n",
       "      <td>NaN</td>\n",
       "      <td>NaN</td>\n",
       "      <td>NaN</td>\n",
       "      <td>NaN</td>\n",
       "      <td>NaN</td>\n",
       "      <td>NaN</td>\n",
       "    </tr>\n",
       "    <tr>\n",
       "      <th>4</th>\n",
       "      <td>0</td>\n",
       "      <td>'591764472651386882'</td>\n",
       "      <td>'#Nepal #news Indian proposal to crash airpor...</td>\n",
       "      <td>NaN</td>\n",
       "      <td>NaN</td>\n",
       "      <td>NaN</td>\n",
       "      <td>NaN</td>\n",
       "      <td>NaN</td>\n",
       "      <td>NaN</td>\n",
       "    </tr>\n",
       "  </tbody>\n",
       "</table>\n",
       "</div>"
      ],
      "text/plain": [
       "   0                      1  \\\n",
       "0  0   '591764470197723137'   \n",
       "1  0   '591779538046218240'   \n",
       "2  0   '591728244925210624'   \n",
       "3  0   '591774433926193152'   \n",
       "4  0   '591764472651386882'   \n",
       "\n",
       "                                                   2  \\\n",
       "0   '#Nepal #news Adding to Bhutanese Refugees Bh...   \n",
       "1   \"The massacre of people's movement says peace...   \n",
       "2                                        \"I'm lonely   \n",
       "3   '#nepal #news 6 billion collection collection...   \n",
       "4   '#Nepal #news Indian proposal to crash airpor...   \n",
       "\n",
       "                                                   3                    4  \\\n",
       "0                                                NaN                  NaN   \n",
       "1                                                NaN                  NaN   \n",
       "2   maybe you're going to die without closing the...   I'm going to die.\"   \n",
       "3                                                NaN                  NaN   \n",
       "4                                                NaN                  NaN   \n",
       "\n",
       "     5    6    7    8  \n",
       "0  NaN  NaN  NaN  NaN  \n",
       "1  NaN  NaN  NaN  NaN  \n",
       "2  NaN  NaN  NaN  NaN  \n",
       "3  NaN  NaN  NaN  NaN  \n",
       "4  NaN  NaN  NaN  NaN  "
      ]
     },
     "execution_count": 2,
     "metadata": {},
     "output_type": "execute_result"
    }
   ],
   "source": [
    "data=pd.read_csv(\"C:/Users/Mehak Sood/Downloads/Train.csv\",header=None)\n",
    "data.head()\n"
   ]
  },
  {
   "cell_type": "code",
   "execution_count": 3,
   "metadata": {},
   "outputs": [
    {
     "data": {
      "text/plain": [
       "0        0\n",
       "1        0\n",
       "2        0\n",
       "3    15852\n",
       "4    17419\n",
       "5    17927\n",
       "6    18049\n",
       "7    18075\n",
       "8    18085\n",
       "dtype: int64"
      ]
     },
     "execution_count": 3,
     "metadata": {},
     "output_type": "execute_result"
    }
   ],
   "source": [
    "data.isnull().sum()"
   ]
  },
  {
   "cell_type": "code",
   "execution_count": 4,
   "metadata": {},
   "outputs": [
    {
     "data": {
      "text/html": [
       "<div>\n",
       "<style scoped>\n",
       "    .dataframe tbody tr th:only-of-type {\n",
       "        vertical-align: middle;\n",
       "    }\n",
       "\n",
       "    .dataframe tbody tr th {\n",
       "        vertical-align: top;\n",
       "    }\n",
       "\n",
       "    .dataframe thead th {\n",
       "        text-align: right;\n",
       "    }\n",
       "</style>\n",
       "<table border=\"1\" class=\"dataframe\">\n",
       "  <thead>\n",
       "    <tr style=\"text-align: right;\">\n",
       "      <th></th>\n",
       "      <th>0</th>\n",
       "      <th>1</th>\n",
       "      <th>2</th>\n",
       "      <th>3</th>\n",
       "      <th>4</th>\n",
       "      <th>5</th>\n",
       "      <th>6</th>\n",
       "      <th>7</th>\n",
       "      <th>8</th>\n",
       "    </tr>\n",
       "  </thead>\n",
       "  <tbody>\n",
       "    <tr>\n",
       "      <th>0</th>\n",
       "      <td>0</td>\n",
       "      <td>'591764470197723137'</td>\n",
       "      <td>'#Nepal #news Adding to Bhutanese Refugees Bh...</td>\n",
       "      <td></td>\n",
       "      <td></td>\n",
       "      <td></td>\n",
       "      <td></td>\n",
       "      <td></td>\n",
       "      <td></td>\n",
       "    </tr>\n",
       "    <tr>\n",
       "      <th>1</th>\n",
       "      <td>0</td>\n",
       "      <td>'591779538046218240'</td>\n",
       "      <td>\"The massacre of people's movement says peace...</td>\n",
       "      <td></td>\n",
       "      <td></td>\n",
       "      <td></td>\n",
       "      <td></td>\n",
       "      <td></td>\n",
       "      <td></td>\n",
       "    </tr>\n",
       "    <tr>\n",
       "      <th>2</th>\n",
       "      <td>0</td>\n",
       "      <td>'591728244925210624'</td>\n",
       "      <td>\"I'm lonely</td>\n",
       "      <td>maybe you're going to die without closing the...</td>\n",
       "      <td>I'm going to die.\"</td>\n",
       "      <td></td>\n",
       "      <td></td>\n",
       "      <td></td>\n",
       "      <td></td>\n",
       "    </tr>\n",
       "    <tr>\n",
       "      <th>3</th>\n",
       "      <td>0</td>\n",
       "      <td>'591774433926193152'</td>\n",
       "      <td>'#nepal #news 6 billion collection collection...</td>\n",
       "      <td></td>\n",
       "      <td></td>\n",
       "      <td></td>\n",
       "      <td></td>\n",
       "      <td></td>\n",
       "      <td></td>\n",
       "    </tr>\n",
       "    <tr>\n",
       "      <th>4</th>\n",
       "      <td>0</td>\n",
       "      <td>'591764472651386882'</td>\n",
       "      <td>'#Nepal #news Indian proposal to crash airpor...</td>\n",
       "      <td></td>\n",
       "      <td></td>\n",
       "      <td></td>\n",
       "      <td></td>\n",
       "      <td></td>\n",
       "      <td></td>\n",
       "    </tr>\n",
       "  </tbody>\n",
       "</table>\n",
       "</div>"
      ],
      "text/plain": [
       "   0                      1  \\\n",
       "0  0   '591764470197723137'   \n",
       "1  0   '591779538046218240'   \n",
       "2  0   '591728244925210624'   \n",
       "3  0   '591774433926193152'   \n",
       "4  0   '591764472651386882'   \n",
       "\n",
       "                                                   2  \\\n",
       "0   '#Nepal #news Adding to Bhutanese Refugees Bh...   \n",
       "1   \"The massacre of people's movement says peace...   \n",
       "2                                        \"I'm lonely   \n",
       "3   '#nepal #news 6 billion collection collection...   \n",
       "4   '#Nepal #news Indian proposal to crash airpor...   \n",
       "\n",
       "                                                   3                    4 5 6  \\\n",
       "0                                                                               \n",
       "1                                                                               \n",
       "2   maybe you're going to die without closing the...   I'm going to die.\"       \n",
       "3                                                                               \n",
       "4                                                                               \n",
       "\n",
       "  7 8  \n",
       "0      \n",
       "1      \n",
       "2      \n",
       "3      \n",
       "4      "
      ]
     },
     "execution_count": 4,
     "metadata": {},
     "output_type": "execute_result"
    }
   ],
   "source": [
    "data=data.fillna(value=\"\")\n",
    "data.head()"
   ]
  },
  {
   "cell_type": "code",
   "execution_count": 5,
   "metadata": {},
   "outputs": [],
   "source": [
    "data[\"texts\"] = data[2].map(str)+data[3].map(str)+data[4].map(str)+data[5].map(str)+data[6].map(str)+data[7].map(str)+data[8].map(str)\n"
   ]
  },
  {
   "cell_type": "code",
   "execution_count": 6,
   "metadata": {},
   "outputs": [
    {
     "data": {
      "text/html": [
       "<div>\n",
       "<style scoped>\n",
       "    .dataframe tbody tr th:only-of-type {\n",
       "        vertical-align: middle;\n",
       "    }\n",
       "\n",
       "    .dataframe tbody tr th {\n",
       "        vertical-align: top;\n",
       "    }\n",
       "\n",
       "    .dataframe thead th {\n",
       "        text-align: right;\n",
       "    }\n",
       "</style>\n",
       "<table border=\"1\" class=\"dataframe\">\n",
       "  <thead>\n",
       "    <tr style=\"text-align: right;\">\n",
       "      <th></th>\n",
       "      <th>0</th>\n",
       "      <th>1</th>\n",
       "      <th>2</th>\n",
       "      <th>3</th>\n",
       "      <th>4</th>\n",
       "      <th>5</th>\n",
       "      <th>6</th>\n",
       "      <th>7</th>\n",
       "      <th>8</th>\n",
       "      <th>texts</th>\n",
       "    </tr>\n",
       "  </thead>\n",
       "  <tbody>\n",
       "    <tr>\n",
       "      <th>0</th>\n",
       "      <td>0</td>\n",
       "      <td>'591764470197723137'</td>\n",
       "      <td>'#Nepal #news Adding to Bhutanese Refugees Bh...</td>\n",
       "      <td></td>\n",
       "      <td></td>\n",
       "      <td></td>\n",
       "      <td></td>\n",
       "      <td></td>\n",
       "      <td></td>\n",
       "      <td>'#Nepal #news Adding to Bhutanese Refugees Bh...</td>\n",
       "    </tr>\n",
       "    <tr>\n",
       "      <th>1</th>\n",
       "      <td>0</td>\n",
       "      <td>'591779538046218240'</td>\n",
       "      <td>\"The massacre of people's movement says peace...</td>\n",
       "      <td></td>\n",
       "      <td></td>\n",
       "      <td></td>\n",
       "      <td></td>\n",
       "      <td></td>\n",
       "      <td></td>\n",
       "      <td>\"The massacre of people's movement says peace...</td>\n",
       "    </tr>\n",
       "    <tr>\n",
       "      <th>2</th>\n",
       "      <td>0</td>\n",
       "      <td>'591728244925210624'</td>\n",
       "      <td>\"I'm lonely</td>\n",
       "      <td>maybe you're going to die without closing the...</td>\n",
       "      <td>I'm going to die.\"</td>\n",
       "      <td></td>\n",
       "      <td></td>\n",
       "      <td></td>\n",
       "      <td></td>\n",
       "      <td>\"I'm lonely maybe you're going to die without...</td>\n",
       "    </tr>\n",
       "    <tr>\n",
       "      <th>3</th>\n",
       "      <td>0</td>\n",
       "      <td>'591774433926193152'</td>\n",
       "      <td>'#nepal #news 6 billion collection collection...</td>\n",
       "      <td></td>\n",
       "      <td></td>\n",
       "      <td></td>\n",
       "      <td></td>\n",
       "      <td></td>\n",
       "      <td></td>\n",
       "      <td>'#nepal #news 6 billion collection collection...</td>\n",
       "    </tr>\n",
       "    <tr>\n",
       "      <th>4</th>\n",
       "      <td>0</td>\n",
       "      <td>'591764472651386882'</td>\n",
       "      <td>'#Nepal #news Indian proposal to crash airpor...</td>\n",
       "      <td></td>\n",
       "      <td></td>\n",
       "      <td></td>\n",
       "      <td></td>\n",
       "      <td></td>\n",
       "      <td></td>\n",
       "      <td>'#Nepal #news Indian proposal to crash airpor...</td>\n",
       "    </tr>\n",
       "  </tbody>\n",
       "</table>\n",
       "</div>"
      ],
      "text/plain": [
       "   0                      1  \\\n",
       "0  0   '591764470197723137'   \n",
       "1  0   '591779538046218240'   \n",
       "2  0   '591728244925210624'   \n",
       "3  0   '591774433926193152'   \n",
       "4  0   '591764472651386882'   \n",
       "\n",
       "                                                   2  \\\n",
       "0   '#Nepal #news Adding to Bhutanese Refugees Bh...   \n",
       "1   \"The massacre of people's movement says peace...   \n",
       "2                                        \"I'm lonely   \n",
       "3   '#nepal #news 6 billion collection collection...   \n",
       "4   '#Nepal #news Indian proposal to crash airpor...   \n",
       "\n",
       "                                                   3                    4 5 6  \\\n",
       "0                                                                               \n",
       "1                                                                               \n",
       "2   maybe you're going to die without closing the...   I'm going to die.\"       \n",
       "3                                                                               \n",
       "4                                                                               \n",
       "\n",
       "  7 8                                              texts  \n",
       "0       '#Nepal #news Adding to Bhutanese Refugees Bh...  \n",
       "1       \"The massacre of people's movement says peace...  \n",
       "2       \"I'm lonely maybe you're going to die without...  \n",
       "3       '#nepal #news 6 billion collection collection...  \n",
       "4       '#Nepal #news Indian proposal to crash airpor...  "
      ]
     },
     "execution_count": 6,
     "metadata": {},
     "output_type": "execute_result"
    }
   ],
   "source": [
    "data.head()"
   ]
  },
  {
   "cell_type": "code",
   "execution_count": 7,
   "metadata": {},
   "outputs": [],
   "source": [
    "data=data.drop(columns=[2,3,4,5,6,7,8],axis=1)"
   ]
  },
  {
   "cell_type": "code",
   "execution_count": 8,
   "metadata": {},
   "outputs": [
    {
     "data": {
      "text/plain": [
       "(18086, 3)"
      ]
     },
     "execution_count": 8,
     "metadata": {},
     "output_type": "execute_result"
    }
   ],
   "source": [
    "data.shape"
   ]
  },
  {
   "cell_type": "code",
   "execution_count": 9,
   "metadata": {},
   "outputs": [
    {
     "data": {
      "text/plain": [
       "\" '#Nepal #news Adding to Bhutanese Refugees Bhutanese citizens of Nepalese origin still refrain from leaving their bags.'\""
      ]
     },
     "execution_count": 9,
     "metadata": {},
     "output_type": "execute_result"
    }
   ],
   "source": [
    "data[\"texts\"][0]"
   ]
  },
  {
   "cell_type": "code",
   "execution_count": 10,
   "metadata": {},
   "outputs": [
    {
     "name": "stdout",
     "output_type": "stream",
     "text": [
      "[nltk_data] Downloading package stopwords to C:\\Users\\Mehak\n",
      "[nltk_data]     Sood\\AppData\\Roaming\\nltk_data...\n",
      "[nltk_data]   Package stopwords is already up-to-date!\n"
     ]
    }
   ],
   "source": [
    "from nltk.corpus import stopwords\n",
    "import nltk\n",
    "nltk.download('stopwords')\n",
    "stopword = set(stopwords.words('english'))\n",
    "data['texts'] = data['texts'].apply(lambda x: ' '.join([word for word in x.split() if word not in (stopword)]))\n"
   ]
  },
  {
   "cell_type": "code",
   "execution_count": 11,
   "metadata": {},
   "outputs": [],
   "source": [
    "from sklearn.feature_extraction import  text"
   ]
  },
  {
   "cell_type": "code",
   "execution_count": 12,
   "metadata": {},
   "outputs": [],
   "source": [
    "vect=text.TfidfVectorizer()"
   ]
  },
  {
   "cell_type": "code",
   "execution_count": 13,
   "metadata": {},
   "outputs": [],
   "source": [
    "X=vect.fit_transform(data[\"texts\"])"
   ]
  },
  {
   "cell_type": "code",
   "execution_count": 14,
   "metadata": {},
   "outputs": [
    {
     "data": {
      "text/plain": [
       "(18086, 17081)"
      ]
     },
     "execution_count": 14,
     "metadata": {},
     "output_type": "execute_result"
    }
   ],
   "source": [
    "X.shape"
   ]
  },
  {
   "cell_type": "code",
   "execution_count": 15,
   "metadata": {},
   "outputs": [
    {
     "data": {
      "text/plain": [
       "{'nepal': 10091,\n",
       " 'news': 10203,\n",
       " 'adding': 823,\n",
       " 'bhutanese': 2242,\n",
       " 'refugees': 12246,\n",
       " 'citizens': 3127,\n",
       " 'nepalese': 10127,\n",
       " 'origin': 10643,\n",
       " 'still': 14138,\n",
       " 'refrain': 12240,\n",
       " 'leaving': 8618,\n",
       " 'bags': 1782,\n",
       " 'the': 14864,\n",
       " 'massacre': 9202,\n",
       " 'people': 11055,\n",
       " 'movement': 9702,\n",
       " 'says': 13079,\n",
       " 'peace': 11023,\n",
       " 'constitution': 3480,\n",
       " 'lost': 8860,\n",
       " 'country': 3633,\n",
       " 'lonely': 8831,\n",
       " 'maybe': 9252,\n",
       " 'going': 6252,\n",
       " 'die': 4337,\n",
       " 'without': 16342,\n",
       " 'closing': 3187,\n",
       " 'city': 3128,\n",
       " 'love': 8872,\n",
       " 'leave': 8616,\n",
       " 'billion': 2281,\n",
       " 'collection': 3250,\n",
       " '12': 55,\n",
       " 'one': 10536,\n",
       " 'year': 16589,\n",
       " 'half': 6528,\n",
       " '30': 225,\n",
       " 'thousand': 14945,\n",
       " 'foreign': 5810,\n",
       " 'studies': 14233,\n",
       " 'indian': 7332,\n",
       " 'proposal': 11712,\n",
       " 'crash': 3675,\n",
       " 'airport': 1023,\n",
       " 'crashes': 3677,\n",
       " 'four': 5857,\n",
       " 'days': 3921,\n",
       " 'god': 6231,\n",
       " 'also': 1113,\n",
       " 'ran': 12035,\n",
       " 'away': 1688,\n",
       " 'money': 9607,\n",
       " 'poor': 11358,\n",
       " 'listened': 8746,\n",
       " 'asked': 1515,\n",
       " 'for': 5793,\n",
       " 'someone': 13875,\n",
       " 'feels': 5581,\n",
       " 'like': 8706,\n",
       " 'tile': 15010,\n",
       " 'see': 13203,\n",
       " 'boys': 2475,\n",
       " 'began': 2013,\n",
       " 'write': 16445,\n",
       " 'english': 5111,\n",
       " 'passage': 10956,\n",
       " 'taw': 14649,\n",
       " 'go': 6224,\n",
       " 'broken': 2561,\n",
       " 'get': 6137,\n",
       " 'you': 16629,\n",
       " 'gaurab': 6068,\n",
       " 'sir': 13691,\n",
       " 'shaken': 13377,\n",
       " 'cheat': 3000,\n",
       " 'cheats': 3002,\n",
       " 'give': 6185,\n",
       " 'us': 15740,\n",
       " 'baba': 1724,\n",
       " 'ramdev': 12016,\n",
       " 'clean': 3152,\n",
       " 'bagramati': 1781,\n",
       " 'ray': 12103,\n",
       " 'kiripur': 8306,\n",
       " 'now': 10377,\n",
       " 'two': 15413,\n",
       " 'plastic': 11238,\n",
       " 'tip': 15043,\n",
       " 'cleanbagmati': 3153,\n",
       " 'seventh': 13331,\n",
       " 'asian': 1511,\n",
       " 'games': 6021,\n",
       " 'madras': 8956,\n",
       " 'bastasta': 1928,\n",
       " 'title': 15050,\n",
       " 'janak': 7766,\n",
       " 'yadav': 16563,\n",
       " 'win': 16311,\n",
       " 'gold': 6255,\n",
       " 'pic': 11152,\n",
       " 'annapurna': 1257,\n",
       " 'http': 7053,\n",
       " 'what': 16245,\n",
       " 'new': 10195,\n",
       " 'updates': 15699,\n",
       " 'started': 14085,\n",
       " 'society': 13843,\n",
       " 'san': 12943,\n",
       " 'jose': 7925,\n",
       " 'original': 10644,\n",
       " 'anjum': 1249,\n",
       " 'rahbar': 11942,\n",
       " 'used': 15748,\n",
       " 'flame': 5707,\n",
       " 'flames': 5708,\n",
       " 'water': 16146,\n",
       " 'came': 2722,\n",
       " 'today': 15074,\n",
       " 'excited': 5332,\n",
       " 'river': 12619,\n",
       " 'let': 8650,\n",
       " 'compromise': 3379,\n",
       " 'steal': 14124,\n",
       " 'temper': 14743,\n",
       " 'miss': 9504,\n",
       " 'memories': 9340,\n",
       " 'sleep': 13756,\n",
       " 'gajendra': 6010,\n",
       " 'received': 12173,\n",
       " 'diary': 4321,\n",
       " 'extremely': 5406,\n",
       " 'beautiful': 1981,\n",
       " 'writing': 16448,\n",
       " 'on': 10532,\n",
       " 'cover': 3653,\n",
       " 'page': 10776,\n",
       " 'wrote': 16456,\n",
       " 'medicine': 9306,\n",
       " 'mufti': 9763,\n",
       " 'electric': 5004,\n",
       " 'cheap': 2998,\n",
       " 'autism': 1641,\n",
       " 'children': 3039,\n",
       " 'cooperate': 3571,\n",
       " 'korea': 8377,\n",
       " 'political': 11338,\n",
       " 'science': 13120,\n",
       " 'social': 13835,\n",
       " 'sport': 14013,\n",
       " 'good': 6269,\n",
       " 'morning': 9643,\n",
       " 'sheikh': 13453,\n",
       " 'photo': 11133,\n",
       " 'sent': 13278,\n",
       " 'sitting': 13713,\n",
       " 'dil': 4367,\n",
       " 'queen': 11874,\n",
       " 'castle': 2813,\n",
       " 'mine': 9450,\n",
       " 'we': 16175,\n",
       " 'heavens': 6719,\n",
       " 'happy': 6585,\n",
       " 'hunter': 7106,\n",
       " 'can': 2737,\n",
       " 'friend': 5908,\n",
       " 'if': 7186,\n",
       " 'wrap': 16427,\n",
       " 'learn': 8610,\n",
       " 'books': 2429,\n",
       " 'literature': 8755,\n",
       " 'just': 7980,\n",
       " 'ask': 1514,\n",
       " 'right': 12582,\n",
       " 'tweets': 15402,\n",
       " 'copyrighted': 3586,\n",
       " 'day': 3918,\n",
       " 'friends': 5912,\n",
       " 'jai': 7715,\n",
       " 'there': 14887,\n",
       " 'lot': 8861,\n",
       " 'sulfony': 14334,\n",
       " 'general': 6101,\n",
       " 'knowledge': 8356,\n",
       " 'quiz': 11896,\n",
       " 'nepali': 10133,\n",
       " 'language': 8541,\n",
       " 'lok': 8815,\n",
       " 'sewa': 13339,\n",
       " 'aayog': 678,\n",
       " 'यज': 16971,\n",
       " 'loksewanepal': 8823,\n",
       " 'all': 1080,\n",
       " 'floors': 5737,\n",
       " 'currently': 3794,\n",
       " 'active': 793,\n",
       " 'thank': 14827,\n",
       " 'remove': 12366,\n",
       " 'bird': 2297,\n",
       " 'chest': 3017,\n",
       " 'hajur': 6522,\n",
       " 'subhash': 14260,\n",
       " 'prabhat': 11435,\n",
       " 'want': 16101,\n",
       " 'another': 1279,\n",
       " 'person': 11084,\n",
       " 'freelance': 5892,\n",
       " 'freak': 5880,\n",
       " 'pre': 11514,\n",
       " 'written': 16449,\n",
       " 'mamtainsa12': 9091,\n",
       " 'jaskaran57000': 7797,\n",
       " 'beta': 2082,\n",
       " 'food': 5777,\n",
       " 'bank': 1854,\n",
       " 'help': 6751,\n",
       " 'disabilities': 4407,\n",
       " 'fasting': 5519,\n",
       " 'fast': 5515,\n",
       " 'news11': 10204,\n",
       " 'bishkek': 2308,\n",
       " 'japan': 7786,\n",
       " 'self': 13234,\n",
       " 'diagnose': 4313,\n",
       " 'viruses': 15978,\n",
       " 'jarcot': 7790,\n",
       " 'kathmandu': 8126,\n",
       " 'government': 6314,\n",
       " 'jury': 7978,\n",
       " 'suspicion': 14462,\n",
       " 'in': 7276,\n",
       " 'jars': 7794,\n",
       " 'patients': 10986,\n",
       " 'diagnosed': 4314,\n",
       " 'psychiatry': 11761,\n",
       " 'jajarkot': 7730,\n",
       " 'dum': 4736,\n",
       " 'seasonal': 13173,\n",
       " 'flu': 5746,\n",
       " 'la': 8458,\n",
       " 'kind': 8295,\n",
       " 'earthquake': 4813,\n",
       " 'juice': 7953,\n",
       " 'released': 12314,\n",
       " 'kauhlu': 8142,\n",
       " 'harmful': 6606,\n",
       " 'coward': 3659,\n",
       " 'mixed': 9529,\n",
       " 'sugarcane': 14315,\n",
       " 'always': 1121,\n",
       " 'wants': 16105,\n",
       " 'eat': 4884,\n",
       " 'whole': 16281,\n",
       " 'they': 14895,\n",
       " 'printed': 11623,\n",
       " 'well': 16220,\n",
       " 'oscar': 10656,\n",
       " 'award': 1681,\n",
       " 'सक': 17041,\n",
       " 'it': 7671,\n",
       " 'security': 13199,\n",
       " 'consultation': 3490,\n",
       " 'planning': 11232,\n",
       " 'plan': 11225,\n",
       " 'dodhara': 4555,\n",
       " 'congress': 3436,\n",
       " 'interrupter': 7560,\n",
       " 'issue': 7665,\n",
       " 'vidya': 15938,\n",
       " 'bhandari': 2150,\n",
       " 'middle': 9414,\n",
       " 'last': 8558,\n",
       " 'ca': 2689,\n",
       " 'second': 13178,\n",
       " 'constituent': 3477,\n",
       " 'assembly': 1529,\n",
       " 'zoo': 16692,\n",
       " 'anup': 1295,\n",
       " 'possible': 11385,\n",
       " 'think': 14905,\n",
       " 'rupees': 12777,\n",
       " 'night': 10260,\n",
       " 'sleeping': 13759,\n",
       " 'case': 2806,\n",
       " 'execution': 5343,\n",
       " 'exam_first': 5315,\n",
       " 'pupils': 11797,\n",
       " 'to': 15071,\n",
       " 'school': 13117,\n",
       " 'students': 14232,\n",
       " 'way': 16166,\n",
       " 'tries': 15288,\n",
       " 'tie': 15004,\n",
       " 'taili': 14563,\n",
       " 'proudnepali': 11738,\n",
       " 'hinges': 6886,\n",
       " 'have': 6650,\n",
       " 'ever': 5273,\n",
       " 'tired': 15045,\n",
       " 'third': 14910,\n",
       " 'party': 10944,\n",
       " 'tweet': 15396,\n",
       " 'recently': 12177,\n",
       " 'arrived': 1455,\n",
       " 'gupta': 6447,\n",
       " 'opposition': 10600,\n",
       " 'leader': 8599,\n",
       " 'ucpn': 15509,\n",
       " 'maoist': 9148,\n",
       " 'led': 8621,\n",
       " 'no': 10305,\n",
       " 'available': 1647,\n",
       " 'annagree': 1256,\n",
       " 'past': 10964,\n",
       " 'daily': 3832,\n",
       " 'maoists': 9149,\n",
       " 'state': 14092,\n",
       " 'xa0': 16477,\n",
       " 'that': 14861,\n",
       " 'much': 9759,\n",
       " 'when': 16260,\n",
       " 'near': 10025,\n",
       " 'ones': 10537,\n",
       " 'talking': 14586,\n",
       " 'close': 3182,\n",
       " 'usual': 15762,\n",
       " 'care': 2781,\n",
       " 'are': 1415,\n",
       " 'finished': 5670,\n",
       " 'selling': 13246,\n",
       " 'milk': 9432,\n",
       " 'value': 15813,\n",
       " 'difficult': 4350,\n",
       " 'produce': 11655,\n",
       " 'farmers': 5503,\n",
       " 'vegetable': 15863,\n",
       " 'sure': 14405,\n",
       " 'apple': 1363,\n",
       " 'blossom': 2391,\n",
       " 'karnali': 8094,\n",
       " 'got': 6304,\n",
       " 'angry': 1237,\n",
       " 'me': 9265,\n",
       " 'wrinkle': 16444,\n",
       " 'burning': 2640,\n",
       " 'notes': 10362,\n",
       " 'khabar': 8207,\n",
       " 'national': 9956,\n",
       " 'burns': 2642,\n",
       " 'almost': 1101,\n",
       " '70': 525,\n",
       " 'years': 16590,\n",
       " 'jugaad': 7950,\n",
       " 'entered': 5131,\n",
       " 'ear': 4784,\n",
       " 'make': 9059,\n",
       " 'tissue': 15049,\n",
       " 'papar': 10872,\n",
       " 'tablet': 14550,\n",
       " 'put': 11832,\n",
       " 'minute': 9471,\n",
       " 'paper': 10873,\n",
       " 'rt': 12729,\n",
       " 'gives': 6188,\n",
       " 'mandate': 9104,\n",
       " 'sees': 13219,\n",
       " 'thirsts': 14915,\n",
       " 'anonymous': 1276,\n",
       " 'how': 7027,\n",
       " 'bad': 1757,\n",
       " 'this': 14921,\n",
       " 'teach': 14659,\n",
       " 'job': 7891,\n",
       " 'knew': 8347,\n",
       " 'would': 16421,\n",
       " 'yourself': 16636,\n",
       " 'touch': 15145,\n",
       " 'corruption': 3606,\n",
       " 'corrupt': 3605,\n",
       " 'killer': 8283,\n",
       " 'murderer': 9800,\n",
       " 'said': 12883,\n",
       " 'injustice': 7447,\n",
       " 'grave': 6354,\n",
       " 'haramam': 6592,\n",
       " 'hurry': 7111,\n",
       " 'difficulty': 4351,\n",
       " 'seen': 13216,\n",
       " 'many': 9147,\n",
       " 'deadly': 3940,\n",
       " 'loved': 8874,\n",
       " 'fill': 5645,\n",
       " 'binny': 2290,\n",
       " 'responded': 12481,\n",
       " 'field': 5623,\n",
       " 'taking': 14576,\n",
       " 'ball': 1817,\n",
       " 'bottle': 2453,\n",
       " 'whopping': 16285,\n",
       " 'violation': 15966,\n",
       " 'rules': 12759,\n",
       " 'icc': 7157,\n",
       " 'rrvsrcb': 12720,\n",
       " 'tell': 14733,\n",
       " 'aine': 997,\n",
       " 'play': 11247,\n",
       " 'ruby': 12742,\n",
       " 'jhapali': 7859,\n",
       " 'jarrakot': 7793,\n",
       " 'campaign': 2727,\n",
       " 'treatment': 15247,\n",
       " 'swine': 14511,\n",
       " 'flint': 5727,\n",
       " 'jararkot': 7789,\n",
       " 'premier': 11545,\n",
       " 'league': 8606,\n",
       " 'ipl': 7605,\n",
       " 'defeated': 4016,\n",
       " 'royal': 12708,\n",
       " 'challenger': 2929,\n",
       " 'bankor': 1858,\n",
       " 'roles': 12664,\n",
       " 'wickets': 16293,\n",
       " 'dot': 4611,\n",
       " 'is': 7634,\n",
       " 'million': 9438,\n",
       " 'husband': 7117,\n",
       " 'lol': 8824,\n",
       " 'cpn': 3665,\n",
       " 'mlas': 9533,\n",
       " 'mind': 9445,\n",
       " 'll': 8779,\n",
       " 'break': 2504,\n",
       " 'tomorrow': 15103,\n",
       " 'sow': 13935,\n",
       " 'scare': 13095,\n",
       " 'dowry': 4633,\n",
       " 'grow': 6396,\n",
       " 'tree': 15251,\n",
       " 'woods': 16380,\n",
       " 're': 12113,\n",
       " 'rakib': 12007,\n",
       " 'hmmm': 6914,\n",
       " 'hurts': 7116,\n",
       " 'headache': 6675,\n",
       " 'times': 15025,\n",
       " 'pain': 10788,\n",
       " 'feeling': 5577,\n",
       " 'head': 6674,\n",
       " 'wanna': 16100,\n",
       " 'enjoy': 5117,\n",
       " 'saying': 13077,\n",
       " 'say': 13074,\n",
       " 'hi': 6809,\n",
       " 'these': 14894,\n",
       " 'eating': 4889,\n",
       " 'kettle': 8202,\n",
       " 'pig': 11170,\n",
       " 'include': 7298,\n",
       " 'u000fe35b': 15456,\n",
       " 'u000fe046': 15435,\n",
       " 'pram': 11466,\n",
       " 'premiere': 11546,\n",
       " 'saturday': 13028,\n",
       " 'saturn': 13030,\n",
       " 'u000fe04e': 15436,\n",
       " 'staying': 14115,\n",
       " 'perfect': 11066,\n",
       " 'lady': 8478,\n",
       " 'drinking': 4674,\n",
       " 'alcohol': 1066,\n",
       " 'rajasthan': 11981,\n",
       " 'royals': 12709,\n",
       " 'bangalore': 1847,\n",
       " 'top': 15123,\n",
       " 'motorcycles': 9680,\n",
       " 'butwal': 2668,\n",
       " 'death': 3953,\n",
       " 'palpa': 10819,\n",
       " 'saddam': 12832,\n",
       " 'tansen': 14616,\n",
       " 'stone': 14153,\n",
       " 'falling': 5471,\n",
       " 'road': 12633,\n",
       " 'baggati': 1775,\n",
       " 'waste': 16133,\n",
       " 'went': 16226,\n",
       " 'cleaned': 3154,\n",
       " 'nep': 10089,\n",
       " 'journalist': 7932,\n",
       " 'america': 1152,\n",
       " 'comment': 3297,\n",
       " 'extent': 5393,\n",
       " 'weekly': 16205,\n",
       " 'columns': 3272,\n",
       " 'taste': 14640,\n",
       " 'things': 14904,\n",
       " 'jaipur': 7721,\n",
       " 'stop': 14158,\n",
       " 'supply': 14381,\n",
       " 'next': 10241,\n",
       " 'month': 9621,\n",
       " 'shutdown': 13583,\n",
       " 'link': 8730,\n",
       " 'up': 15692,\n",
       " 'plant': 11234,\n",
       " 'old': 10520,\n",
       " 'age': 945,\n",
       " 'shaheer': 13364,\n",
       " 'use': 15746,\n",
       " 'muscle': 9808,\n",
       " 'media': 9294,\n",
       " 'power': 11415,\n",
       " 'abuse': 725,\n",
       " '360': 244,\n",
       " 'u200b': 15474,\n",
       " 'u200bseats': 15490,\n",
       " 'kamala': 8049,\n",
       " 'msg9successfulweeks': 9720,\n",
       " 'heat': 6716,\n",
       " 'drink': 4670,\n",
       " 'avoid': 1669,\n",
       " 'summer': 14341,\n",
       " 'farmer': 5500,\n",
       " 'kenya': 8193,\n",
       " 'left': 8624,\n",
       " 'grass': 6349,\n",
       " 'killed': 8282,\n",
       " 'cow': 3658,\n",
       " 'sheep': 13447,\n",
       " 'silk': 13640,\n",
       " 'movie': 9707,\n",
       " 'read': 12129,\n",
       " 'perspective': 11091,\n",
       " 'reshamfilili': 12450,\n",
       " 'heartfelt': 6708,\n",
       " 'greetings': 6368,\n",
       " '2072': 147,\n",
       " 'nepalinewyear': 10136,\n",
       " 'icosyo': 7164,\n",
       " 'only': 10544,\n",
       " 'coming': 3286,\n",
       " 'glory': 6214,\n",
       " 'buddha': 2594,\n",
       " 'nepalis': 10139,\n",
       " 'even': 5267,\n",
       " 'mood': 9628,\n",
       " 'flown': 5745,\n",
       " 'quiet': 11890,\n",
       " 'quietly': 11892,\n",
       " 'lips': 8739,\n",
       " 'keep': 8169,\n",
       " 'covered': 3655,\n",
       " 'rid': 12577,\n",
       " 'do': 4545,\n",
       " 'global': 6207,\n",
       " 'azure': 1709,\n",
       " 'boot': 2432,\n",
       " 'camp': 2726,\n",
       " 'gabc': 5993,\n",
       " 'bhairai': 2125,\n",
       " 'college': 3256,\n",
       " 'know': 8353,\n",
       " 'yu': 16646,\n",
       " 'walk': 16088,\n",
       " 'own': 10734,\n",
       " 'system': 14541,\n",
       " 'birth': 2302,\n",
       " 'born': 2442,\n",
       " 'regardless': 12257,\n",
       " 'tactics': 14554,\n",
       " 'become': 1988,\n",
       " 'better': 2090,\n",
       " 'democracy': 4085,\n",
       " 'chief': 3033,\n",
       " 'army': 1439,\n",
       " 'staff': 14061,\n",
       " 'pakistan': 10802,\n",
       " 'headed': 6677,\n",
       " 'prime': 11613,\n",
       " 'minister': 9460,\n",
       " 'gaurav': 6069,\n",
       " 'shamser': 13401,\n",
       " 'pakistani': 10803,\n",
       " 'counterpart': 3626,\n",
       " 'saheel': 12876,\n",
       " 'sarfko': 13001,\n",
       " 'economic': 4902,\n",
       " 'journalism': 7931,\n",
       " 'talim': 14583,\n",
       " 'dulkha': 4735,\n",
       " 'control': 3537,\n",
       " 'chitwan': 3058,\n",
       " 'outbreak': 10681,\n",
       " 'dengue': 4094,\n",
       " '11': 45,\n",
       " 'chhattan': 3025,\n",
       " 'disease': 4446,\n",
       " 'after': 919,\n",
       " 'bangladesh': 1851,\n",
       " 'vijay': 15951,\n",
       " 'iran': 7613,\n",
       " 'organized': 10634,\n",
       " 'organizers': 10635,\n",
       " 'soccer': 13834,\n",
       " 'mukesh': 9769,\n",
       " 'dr': 4641,\n",
       " 'govind': 6317,\n",
       " 'kc': 8162,\n",
       " 'goal_nepal': 6228,\n",
       " 'le': 8597,\n",
       " 'clock': 3178,\n",
       " 'killing': 8286,\n",
       " 'activist': 796,\n",
       " 'subin': 14261,\n",
       " 'mehmud': 9326,\n",
       " 'friday': 5903,\n",
       " 'human': 7075,\n",
       " 'rights': 12585,\n",
       " 'karachi': 8080,\n",
       " 'import': 7256,\n",
       " 'imports': 7259,\n",
       " 'stopping': 14162,\n",
       " 'thinking': 14907,\n",
       " 'first': 5685,\n",
       " 'drowned': 4694,\n",
       " 'died': 4338,\n",
       " 'separate': 13286,\n",
       " 'incident': 7294,\n",
       " 'different': 4347,\n",
       " 'parts': 10943,\n",
       " 'defeat': 4015,\n",
       " 'india': 7325,\n",
       " 'join': 7901,\n",
       " 'final': 5656,\n",
       " 'illiterate': 7218,\n",
       " 'present': 11563,\n",
       " 'dream': 4656,\n",
       " 'dreams': 4658,\n",
       " 'filled': 5646,\n",
       " 'tapping': 14623,\n",
       " 'someday': 13873,\n",
       " 'sunny': 14358,\n",
       " 'rate': 12072,\n",
       " 'change': 2953,\n",
       " 'down': 4624,\n",
       " 'leone': 8642,\n",
       " 'puzzle': 11838,\n",
       " 'leela': 8623,\n",
       " 'featuring': 5564,\n",
       " 'animated': 1246,\n",
       " 'distribution': 4505,\n",
       " 'educational': 4929,\n",
       " 'materials': 9224,\n",
       " 'bagmati': 1779,\n",
       " 'safi': 12858,\n",
       " 'pride': 11608,\n",
       " 'yogguru': 16620,\n",
       " '8d': 570,\n",
       " 'dalit': 3845,\n",
       " 'child': 3035,\n",
       " 'could': 3615,\n",
       " 'vaashakh': 15787,\n",
       " 'sandhuli': 12951,\n",
       " 'five': 5698,\n",
       " 'reign': 12285,\n",
       " 'republican': 12410,\n",
       " 'hundreds': 7101,\n",
       " 'commonwealth': 3317,\n",
       " 'committees': 3310,\n",
       " 'celebrated': 2860,\n",
       " 'cultural': 3784,\n",
       " 'committee': 3309,\n",
       " 'save': 13046,\n",
       " 'vishnu': 15986,\n",
       " 'poudel': 11405,\n",
       " 'great': 6356,\n",
       " 'leaders': 8600,\n",
       " 'parties': 10939,\n",
       " 'your': 16634,\n",
       " 'nephew': 10171,\n",
       " 'sighted': 13609,\n",
       " 'bikaner': 2274,\n",
       " 'breaking': 2508,\n",
       " 'resistance': 12462,\n",
       " 'negligence': 10060,\n",
       " 'officials': 10497,\n",
       " 'jaldhayi': 7742,\n",
       " 'department': 4108,\n",
       " 'over': 10704,\n",
       " 'dozen': 4635,\n",
       " 'climbed': 3170,\n",
       " 'tank': 14613,\n",
       " 'girl': 6178,\n",
       " 'opening': 10564,\n",
       " 'incense': 7290,\n",
       " 'baashakh': 1722,\n",
       " 'taplejung': 14620,\n",
       " 'thermal': 14891,\n",
       " 'following': 5771,\n",
       " 'afc': 892,\n",
       " 'women': 16368,\n",
       " 'football': 5787,\n",
       " 'academy': 733,\n",
       " 'pokhara': 11320,\n",
       " 'dainnath': 3835,\n",
       " 'baral': 1875,\n",
       " 'awarded': 1682,\n",
       " 'public': 11771,\n",
       " 'traffic': 15188,\n",
       " 'coordination': 3578,\n",
       " 'kamers': 8054,\n",
       " 'campus': 2735,\n",
       " 'bba': 1951,\n",
       " 'th': 14808,\n",
       " 'sem': 13250,\n",
       " 'question': 11878,\n",
       " 'weightlessness': 16212,\n",
       " 'why': 16291,\n",
       " 'effective': 4958,\n",
       " 'gravity': 6355,\n",
       " 'zero': 16678,\n",
       " 'ice': 7158,\n",
       " 'malaysia': 9074,\n",
       " 'known': 8358,\n",
       " 'workers': 16388,\n",
       " 'u1': 15467,\n",
       " 'paratha': 10894,\n",
       " 'foodventures': 5779,\n",
       " 'dhadu': 4255,\n",
       " 'hisila': 6893,\n",
       " 'yami': 16571,\n",
       " 'anary': 1211,\n",
       " 'honorable': 6964,\n",
       " 'barcelona': 1877,\n",
       " 'spain': 13942,\n",
       " 'chile': 3041,\n",
       " 'international': 7553,\n",
       " 'level': 8659,\n",
       " 'swimming': 14510,\n",
       " 'pool': 11357,\n",
       " 'police': 11331,\n",
       " 'vehicle': 15866,\n",
       " 'bought': 2459,\n",
       " '52': 328,\n",
       " 'three': 14959,\n",
       " 'months': 9623,\n",
       " 'increasing': 7314,\n",
       " 'trade': 15184,\n",
       " 'jarkarkot': 7792,\n",
       " 'feedback': 5571,\n",
       " 'support': 14384,\n",
       " 'supporting': 14388,\n",
       " 'ashok': 1495,\n",
       " 'dinda': 4381,\n",
       " 'takes': 14575,\n",
       " 'sunlight': 14355,\n",
       " 'clouds': 3194,\n",
       " 'hide': 6812,\n",
       " 'cold': 3233,\n",
       " 'runner': 12770,\n",
       " 'runs': 12772,\n",
       " 'breaks': 2511,\n",
       " 'rightnow': 12584,\n",
       " 'senior': 13260,\n",
       " 'singer': 13671,\n",
       " 'prem': 11542,\n",
       " 'prakash': 11464,\n",
       " 'malla': 9082,\n",
       " 'madhukar': 8950,\n",
       " 'passed': 10957,\n",
       " 'liked': 8707,\n",
       " 'pizza': 11213,\n",
       " 'hotel': 7008,\n",
       " 'home': 6947,\n",
       " 'mother': 9663,\n",
       " 'hand': 6552,\n",
       " 'together': 15080,\n",
       " 'saif': 12884,\n",
       " 'ali': 1073,\n",
       " 'khan': 8230,\n",
       " 'shahid': 13365,\n",
       " 'kapoor': 8075,\n",
       " 'mumbai': 9786,\n",
       " 'shah': 13361,\n",
       " 'generations': 6106,\n",
       " 'ha': 6493,\n",
       " 'spoke': 14005,\n",
       " 'place': 11220,\n",
       " 'named': 9890,\n",
       " 'swiss': 14517,\n",
       " 'feel': 5575,\n",
       " 'famerscrying': 5479,\n",
       " 'incoming': 7304,\n",
       " 'lambs': 8514,\n",
       " 'waiting': 16074,\n",
       " 'sister': 13699,\n",
       " 'asking': 1516,\n",
       " 'pounds': 11408,\n",
       " 'blood': 2382,\n",
       " 'dyeing': 4775,\n",
       " 'hurt': 7112,\n",
       " 'sorry': 13909,\n",
       " 'sn': 13809,\n",
       " 'rainfall': 11967,\n",
       " 'janakpur': 7768,\n",
       " 'weather': 16193,\n",
       " 'rainy': 11970,\n",
       " 'rain': 11965,\n",
       " 'raining': 11968,\n",
       " 'visited': 15996,\n",
       " 'ago': 963,\n",
       " 'yoga': 16618,\n",
       " 'kitipur': 8335,\n",
       " 'owner': 10736,\n",
       " 'intercontinental': 7542,\n",
       " 'lord': 8848,\n",
       " 'om': 10525,\n",
       " 'ram': 12011,\n",
       " 'communication': 3325,\n",
       " 'policy': 11335,\n",
       " 'goes': 6246,\n",
       " 'through': 14968,\n",
       " 'communications': 3326,\n",
       " 'fund': 5961,\n",
       " 'most': 9658,\n",
       " 'damash': 3854,\n",
       " 'baikhakh': 1790,\n",
       " 'prachanda': 11439,\n",
       " 'bring': 2545,\n",
       " 'proud': 11736,\n",
       " 'gadhakdar': 5999,\n",
       " 'republic': 12408,\n",
       " 'newsstreet': 10232,\n",
       " 'liberty': 8672,\n",
       " 'anyway': 1313,\n",
       " 'able': 697,\n",
       " 'otherwise': 10663,\n",
       " 'sangeeta': 12960,\n",
       " 'tamang': 14595,\n",
       " 'kuala': 8415,\n",
       " 'lumpur': 8904,\n",
       " 'penang': 11047,\n",
       " 'vacation': 15791,\n",
       " 'slightly': 13767,\n",
       " 'appreciate': 1372,\n",
       " 'sunil': 14354,\n",
       " 'dispersed': 4469,\n",
       " 'program': 11669,\n",
       " 'babu': 1733,\n",
       " 'listen': 8745,\n",
       " 'stay': 14109,\n",
       " 'europe': 5246,\n",
       " 'deaths': 3955,\n",
       " 'bihar': 2264,\n",
       " 'cyclone': 3808,\n",
       " 'squirrel': 14040,\n",
       " 'rahul': 11950,\n",
       " 'gandhi': 6026,\n",
       " 'may': 9249,\n",
       " 'contest': 3510,\n",
       " '14': 71,\n",
       " 'girls': 6181,\n",
       " 'regional': 12266,\n",
       " 'cham': 2933,\n",
       " 'cable': 2693,\n",
       " 'line': 8724,\n",
       " 'seriously': 13296,\n",
       " 'injured': 7442,\n",
       " 'accident': 747,\n",
       " 'dating': 3910,\n",
       " 'loss': 8858,\n",
       " 'relationship': 12302,\n",
       " 'john': 7899,\n",
       " 'abraham': 706,\n",
       " 'actress': 805,\n",
       " 'disappointed': 4414,\n",
       " 'prachand': 11438,\n",
       " 'dissatisfaction': 4486,\n",
       " 'peaceful': 11024,\n",
       " 'calm': 2716,\n",
       " 'sea': 13162,\n",
       " 'face': 5420,\n",
       " 'inside': 7486,\n",
       " 'tidal': 15002,\n",
       " 'bhut': 2240,\n",
       " 'waves': 16161,\n",
       " 'sarita': 13005,\n",
       " 'oli': 10523,\n",
       " 'uml': 15538,\n",
       " 'chairman': 2911,\n",
       " 'kp': 8392,\n",
       " 'sharma': 13424,\n",
       " 'absolute': 711,\n",
       " 'word': 16383,\n",
       " 'carpus': 2793,\n",
       " 'roof': 12673,\n",
       " 'house': 7018,\n",
       " 'granule': 6343,\n",
       " 'vessel': 15894,\n",
       " 'warm': 16114,\n",
       " 'bit': 2315,\n",
       " 'thin': 14902,\n",
       " 'platelet': 11241,\n",
       " 'bag': 1773,\n",
       " 'area': 1416,\n",
       " 'issued': 7666,\n",
       " 'capital': 2768,\n",
       " 'playing': 11252,\n",
       " 'rejected': 12289,\n",
       " 'team': 14665,\n",
       " 'pragmatism': 11452,\n",
       " 'felt': 5589,\n",
       " 'kolkata': 8371,\n",
       " 'महम': 16967,\n",
       " 'tremors': 15268,\n",
       " 'lucknow': 8898,\n",
       " 'fierce': 5626,\n",
       " 'huge': 7064,\n",
       " 'dhanbad': 4263,\n",
       " 'bokaro': 2411,\n",
       " 'jharkhand': 7861,\n",
       " 'within': 16341,\n",
       " 'come': 3277,\n",
       " 'out': 10677,\n",
       " 'mahendranagar': 9024,\n",
       " 'patna': 10988,\n",
       " 'jhapa': 7858,\n",
       " 'take': 14571,\n",
       " 'tinairlai': 15036,\n",
       " 'open': 10561,\n",
       " 'eyes': 5412,\n",
       " 'shouted': 13550,\n",
       " 'laughing': 8576,\n",
       " 'tremendous': 15264,\n",
       " 'delhi': 4058,\n",
       " 'happeningnow': 6579,\n",
       " 'shocks': 13524,\n",
       " 'due': 4728,\n",
       " 'common': 3314,\n",
       " 'man': 9092,\n",
       " 'fault': 5533,\n",
       " 'fir': 5674,\n",
       " 'demanded': 4079,\n",
       " 'punishment': 11793,\n",
       " 'aaprallymurder': 664,\n",
       " 'aapkisanrally': 662,\n",
       " 'secular': 13191,\n",
       " 'nation': 9955,\n",
       " 'hindu': 6876,\n",
       " 'router': 12699,\n",
       " 'interest': 7543,\n",
       " 'politics': 11343,\n",
       " 'कम': 16794,\n",
       " 'झटक': 16844,\n",
       " 'office': 10491,\n",
       " 'time': 15019,\n",
       " 'long': 8832,\n",
       " 'work': 16385,\n",
       " 'ellie': 5020,\n",
       " 'blow': 2393,\n",
       " 'bhakampa': 2131,\n",
       " 'ekkassi': 4988,\n",
       " 'madhassa': 8945,\n",
       " 'halala': 6524,\n",
       " 'macchay': 8933,\n",
       " 'उत': 16759,\n",
       " 'तर': 16863,\n",
       " 'रद': 16988,\n",
       " 'और': 16785,\n",
       " 'hope': 6971,\n",
       " 'every': 5283,\n",
       " 'safe': 12845,\n",
       " 'horrible': 6985,\n",
       " 'full': 5952,\n",
       " 'wheat': 16257,\n",
       " 'sacks': 12822,\n",
       " 'fall': 5469,\n",
       " 'strong': 14210,\n",
       " 'varanasi': 15829,\n",
       " 'हर': 17066,\n",
       " 'मह': 16965,\n",
       " 'else': 5026,\n",
       " 'capitalist': 2770,\n",
       " 'socialism': 13837,\n",
       " 'feudalism': 5611,\n",
       " 'wasting': 16135,\n",
       " 'controversy': 3543,\n",
       " 'vipin': 15970,\n",
       " 'shakti': 13383,\n",
       " 'vishwas': 15989,\n",
       " 'u200d': 15497,\n",
       " 'lecture': 8620,\n",
       " 'article': 1463,\n",
       " 'annnagal': 1261,\n",
       " 'gorakhpur': 6292,\n",
       " 'dcp': 3927,\n",
       " 'lamba': 8512,\n",
       " 'allegation': 1085,\n",
       " 'evidence': 5294,\n",
       " 'rape': 12053,\n",
       " ...}"
      ]
     },
     "execution_count": 15,
     "metadata": {},
     "output_type": "execute_result"
    }
   ],
   "source": [
    "vect.vocabulary_"
   ]
  },
  {
   "cell_type": "code",
   "execution_count": 16,
   "metadata": {
    "scrolled": true
   },
   "outputs": [
    {
     "data": {
      "text/html": [
       "<div>\n",
       "<style scoped>\n",
       "    .dataframe tbody tr th:only-of-type {\n",
       "        vertical-align: middle;\n",
       "    }\n",
       "\n",
       "    .dataframe tbody tr th {\n",
       "        vertical-align: top;\n",
       "    }\n",
       "\n",
       "    .dataframe thead th {\n",
       "        text-align: right;\n",
       "    }\n",
       "</style>\n",
       "<table border=\"1\" class=\"dataframe\">\n",
       "  <thead>\n",
       "    <tr style=\"text-align: right;\">\n",
       "      <th></th>\n",
       "      <th>0</th>\n",
       "      <th>1</th>\n",
       "      <th>texts</th>\n",
       "    </tr>\n",
       "  </thead>\n",
       "  <tbody>\n",
       "    <tr>\n",
       "      <th>0</th>\n",
       "      <td>0</td>\n",
       "      <td>'591764470197723137'</td>\n",
       "      <td>'#Nepal #news Adding Bhutanese Refugees Bhutan...</td>\n",
       "    </tr>\n",
       "    <tr>\n",
       "      <th>1</th>\n",
       "      <td>0</td>\n",
       "      <td>'591779538046218240'</td>\n",
       "      <td>\"The massacre people's movement says peace con...</td>\n",
       "    </tr>\n",
       "    <tr>\n",
       "      <th>2</th>\n",
       "      <td>0</td>\n",
       "      <td>'591728244925210624'</td>\n",
       "      <td>\"I'm lonely maybe going die without closing ci...</td>\n",
       "    </tr>\n",
       "    <tr>\n",
       "      <th>3</th>\n",
       "      <td>0</td>\n",
       "      <td>'591774433926193152'</td>\n",
       "      <td>'#nepal #news 6 billion collection collection ...</td>\n",
       "    </tr>\n",
       "    <tr>\n",
       "      <th>4</th>\n",
       "      <td>0</td>\n",
       "      <td>'591764472651386882'</td>\n",
       "      <td>'#Nepal #news Indian proposal crash airport cr...</td>\n",
       "    </tr>\n",
       "  </tbody>\n",
       "</table>\n",
       "</div>"
      ],
      "text/plain": [
       "   0                      1                                              texts\n",
       "0  0   '591764470197723137'  '#Nepal #news Adding Bhutanese Refugees Bhutan...\n",
       "1  0   '591779538046218240'  \"The massacre people's movement says peace con...\n",
       "2  0   '591728244925210624'  \"I'm lonely maybe going die without closing ci...\n",
       "3  0   '591774433926193152'  '#nepal #news 6 billion collection collection ...\n",
       "4  0   '591764472651386882'  '#Nepal #news Indian proposal crash airport cr..."
      ]
     },
     "execution_count": 16,
     "metadata": {},
     "output_type": "execute_result"
    }
   ],
   "source": [
    "data.head()"
   ]
  },
  {
   "cell_type": "code",
   "execution_count": 17,
   "metadata": {},
   "outputs": [],
   "source": [
    "from sklearn.feature_selection import SelectKBest\n",
    "from sklearn.feature_selection import chi2"
   ]
  },
  {
   "cell_type": "code",
   "execution_count": 18,
   "metadata": {},
   "outputs": [],
   "source": [
    "y= pd.DataFrame(data[0])"
   ]
  },
  {
   "cell_type": "code",
   "execution_count": 19,
   "metadata": {},
   "outputs": [],
   "source": [
    "data_new=SelectKBest(chi2,k=2).fit_transform(X,y)"
   ]
  },
  {
   "cell_type": "code",
   "execution_count": 20,
   "metadata": {},
   "outputs": [
    {
     "data": {
      "text/plain": [
       "(18086, 2)"
      ]
     },
     "execution_count": 20,
     "metadata": {},
     "output_type": "execute_result"
    }
   ],
   "source": [
    "data_new.shape"
   ]
  },
  {
   "cell_type": "code",
   "execution_count": 21,
   "metadata": {},
   "outputs": [],
   "source": [
    "from sklearn.model_selection import StratifiedShuffleSplit"
   ]
  },
  {
   "cell_type": "code",
   "execution_count": 22,
   "metadata": {},
   "outputs": [],
   "source": [
    "shuffle=StratifiedShuffleSplit(n_splits=9,random_state=6)"
   ]
  },
  {
   "cell_type": "code",
   "execution_count": 23,
   "metadata": {},
   "outputs": [],
   "source": [
    "y=y.values.reshape(18086)"
   ]
  },
  {
   "cell_type": "code",
   "execution_count": 24,
   "metadata": {},
   "outputs": [],
   "source": [
    "for train_index, test_index in shuffle.split(data_new, y):\n",
    "    X_train, X_test = data_new[train_index], data_new[test_index]\n",
    "    y_train, y_test = y[train_index], y[test_index]"
   ]
  },
  {
   "cell_type": "markdown",
   "metadata": {},
   "source": [
    "Naive Bayes"
   ]
  },
  {
   "cell_type": "code",
   "execution_count": 25,
   "metadata": {},
   "outputs": [],
   "source": [
    "from sklearn.naive_bayes import GaussianNB\n"
   ]
  },
  {
   "cell_type": "code",
   "execution_count": 26,
   "metadata": {},
   "outputs": [
    {
     "data": {
      "text/plain": [
       "GaussianNB(priors=None)"
      ]
     },
     "execution_count": 26,
     "metadata": {},
     "output_type": "execute_result"
    }
   ],
   "source": [
    "gass = GaussianNB()\n",
    "gass.fit(X_train.todense(),y_train)"
   ]
  },
  {
   "cell_type": "code",
   "execution_count": 27,
   "metadata": {},
   "outputs": [],
   "source": [
    "pre_gass =  gass.predict(X_test.todense())"
   ]
  },
  {
   "cell_type": "code",
   "execution_count": 28,
   "metadata": {},
   "outputs": [],
   "source": [
    "from sklearn.metrics import accuracy_score,classification_report,confusion_matrix,f1_score"
   ]
  },
  {
   "cell_type": "code",
   "execution_count": 29,
   "metadata": {},
   "outputs": [
    {
     "data": {
      "text/plain": [
       "0.9469320066334992"
      ]
     },
     "execution_count": 29,
     "metadata": {},
     "output_type": "execute_result"
    }
   ],
   "source": [
    "accuracy_score(pre_gass,y_test)"
   ]
  },
  {
   "cell_type": "code",
   "execution_count": 30,
   "metadata": {},
   "outputs": [
    {
     "name": "stdout",
     "output_type": "stream",
     "text": [
      "             precision    recall  f1-score   support\n",
      "\n",
      "          0       0.98      0.97      0.98      1733\n",
      "          1       0.10      0.40      0.16         5\n",
      "          2       0.39      0.37      0.38        71\n",
      "\n",
      "avg / total       0.95      0.95      0.95      1809\n",
      "\n"
     ]
    }
   ],
   "source": [
    "print(classification_report(pre_gass,y_test))"
   ]
  },
  {
   "cell_type": "code",
   "execution_count": 31,
   "metadata": {},
   "outputs": [
    {
     "name": "stdout",
     "output_type": "stream",
     "text": [
      "[[1685   10   38]\n",
      " [   1    2    2]\n",
      " [  37    8   26]]\n"
     ]
    }
   ],
   "source": [
    "print(confusion_matrix(pre_gass,y_test))"
   ]
  },
  {
   "cell_type": "code",
   "execution_count": 32,
   "metadata": {},
   "outputs": [
    {
     "name": "stdout",
     "output_type": "stream",
     "text": [
      "0.94948838242852\n"
     ]
    }
   ],
   "source": [
    "f1_gass = f1_score(pre_gass,y_test,average='weighted')\n",
    "print(f1_gass)"
   ]
  },
  {
   "cell_type": "code",
   "execution_count": 33,
   "metadata": {},
   "outputs": [],
   "source": [
    "from sklearn.naive_bayes import MultinomialNB"
   ]
  },
  {
   "cell_type": "code",
   "execution_count": 34,
   "metadata": {},
   "outputs": [
    {
     "data": {
      "text/plain": [
       "MultinomialNB(alpha=1.0, class_prior=None, fit_prior=True)"
      ]
     },
     "execution_count": 34,
     "metadata": {},
     "output_type": "execute_result"
    }
   ],
   "source": [
    "multi = MultinomialNB()\n",
    "multi.fit(X_train,y_train)"
   ]
  },
  {
   "cell_type": "code",
   "execution_count": 35,
   "metadata": {},
   "outputs": [],
   "source": [
    "pre_multi = multi.predict(X_test)"
   ]
  },
  {
   "cell_type": "code",
   "execution_count": 36,
   "metadata": {},
   "outputs": [
    {
     "name": "stdout",
     "output_type": "stream",
     "text": [
      "95.24599226091763\n"
     ]
    }
   ],
   "source": [
    "print(accuracy_score(pre_multi,y_test)*100)"
   ]
  },
  {
   "cell_type": "code",
   "execution_count": 37,
   "metadata": {},
   "outputs": [
    {
     "name": "stdout",
     "output_type": "stream",
     "text": [
      "             precision    recall  f1-score   support\n",
      "\n",
      "          0       1.00      0.95      0.98      1809\n",
      "          1       0.00      0.00      0.00         0\n",
      "          2       0.00      0.00      0.00         0\n",
      "\n",
      "avg / total       1.00      0.95      0.98      1809\n",
      "\n"
     ]
    },
    {
     "name": "stderr",
     "output_type": "stream",
     "text": [
      "C:\\Users\\Mehak Sood\\Anaconda3\\lib\\site-packages\\sklearn\\metrics\\classification.py:1137: UndefinedMetricWarning: Recall and F-score are ill-defined and being set to 0.0 in labels with no true samples.\n",
      "  'recall', 'true', average, warn_for)\n"
     ]
    }
   ],
   "source": [
    "print(classification_report(pre_multi,y_test))"
   ]
  },
  {
   "cell_type": "code",
   "execution_count": 38,
   "metadata": {},
   "outputs": [
    {
     "name": "stdout",
     "output_type": "stream",
     "text": [
      "[[1723   20   66]\n",
      " [   0    0    0]\n",
      " [   0    0    0]]\n"
     ]
    }
   ],
   "source": [
    "print(confusion_matrix(pre_multi,y_test))"
   ]
  },
  {
   "cell_type": "code",
   "execution_count": 39,
   "metadata": {},
   "outputs": [
    {
     "name": "stdout",
     "output_type": "stream",
     "text": [
      "0.9756511891279728\n"
     ]
    },
    {
     "name": "stderr",
     "output_type": "stream",
     "text": [
      "C:\\Users\\Mehak Sood\\Anaconda3\\lib\\site-packages\\sklearn\\metrics\\classification.py:1137: UndefinedMetricWarning: F-score is ill-defined and being set to 0.0 in labels with no true samples.\n",
      "  'recall', 'true', average, warn_for)\n"
     ]
    }
   ],
   "source": [
    "f1_multi = f1_score(pre_multi,y_test,average='weighted')\n",
    "print(f1_multi)"
   ]
  },
  {
   "cell_type": "markdown",
   "metadata": {},
   "source": [
    "Support Vector Machine"
   ]
  },
  {
   "cell_type": "code",
   "execution_count": 40,
   "metadata": {},
   "outputs": [],
   "source": [
    "from sklearn.svm import SVC"
   ]
  },
  {
   "cell_type": "code",
   "execution_count": 41,
   "metadata": {},
   "outputs": [
    {
     "data": {
      "text/plain": [
       "SVC(C=1.0, cache_size=200, class_weight=None, coef0=0.0,\n",
       "  decision_function_shape='ovr', degree=3, gamma='auto', kernel='linear',\n",
       "  max_iter=-1, probability=False, random_state=None, shrinking=True,\n",
       "  tol=0.001, verbose=False)"
      ]
     },
     "execution_count": 41,
     "metadata": {},
     "output_type": "execute_result"
    }
   ],
   "source": [
    "linear_svc = SVC(kernel = \"linear\")\n",
    "linear_svc.fit(X_train,y_train)"
   ]
  },
  {
   "cell_type": "code",
   "execution_count": 42,
   "metadata": {},
   "outputs": [],
   "source": [
    "pre_lin_SVC =linear_svc.predict(X_test)"
   ]
  },
  {
   "cell_type": "code",
   "execution_count": 43,
   "metadata": {},
   "outputs": [
    {
     "name": "stdout",
     "output_type": "stream",
     "text": [
      "0.9519071310116086\n"
     ]
    }
   ],
   "source": [
    "print(accuracy_score(pre_lin_SVC,y_test))"
   ]
  },
  {
   "cell_type": "code",
   "execution_count": 44,
   "metadata": {},
   "outputs": [
    {
     "name": "stdout",
     "output_type": "stream",
     "text": [
      "             precision    recall  f1-score   support\n",
      "\n",
      "          0       0.99      0.96      0.98      1780\n",
      "          1       0.00      0.00      0.00         0\n",
      "          2       0.21      0.48      0.29        29\n",
      "\n",
      "avg / total       0.98      0.95      0.96      1809\n",
      "\n"
     ]
    },
    {
     "name": "stderr",
     "output_type": "stream",
     "text": [
      "C:\\Users\\Mehak Sood\\Anaconda3\\lib\\site-packages\\sklearn\\metrics\\classification.py:1137: UndefinedMetricWarning: Recall and F-score are ill-defined and being set to 0.0 in labels with no true samples.\n",
      "  'recall', 'true', average, warn_for)\n"
     ]
    }
   ],
   "source": [
    "print(classification_report(pre_lin_SVC,y_test))"
   ]
  },
  {
   "cell_type": "code",
   "execution_count": 45,
   "metadata": {},
   "outputs": [
    {
     "name": "stdout",
     "output_type": "stream",
     "text": [
      "[[1708   20   52]\n",
      " [   0    0    0]\n",
      " [  15    0   14]]\n"
     ]
    }
   ],
   "source": [
    "print(confusion_matrix(pre_lin_SVC,y_test))"
   ]
  },
  {
   "cell_type": "code",
   "execution_count": 46,
   "metadata": {},
   "outputs": [
    {
     "name": "stdout",
     "output_type": "stream",
     "text": [
      "0.9642562446401778\n"
     ]
    },
    {
     "name": "stderr",
     "output_type": "stream",
     "text": [
      "C:\\Users\\Mehak Sood\\Anaconda3\\lib\\site-packages\\sklearn\\metrics\\classification.py:1137: UndefinedMetricWarning: F-score is ill-defined and being set to 0.0 in labels with no true samples.\n",
      "  'recall', 'true', average, warn_for)\n"
     ]
    }
   ],
   "source": [
    "f1_lin_SVC = f1_score(pre_lin_SVC,y_test,average='weighted')\n",
    "print(f1_lin_SVC)"
   ]
  },
  {
   "cell_type": "code",
   "execution_count": 47,
   "metadata": {},
   "outputs": [],
   "source": [
    "poly_SVC  = SVC(kernel=\"poly\",degree=8)"
   ]
  },
  {
   "cell_type": "code",
   "execution_count": 48,
   "metadata": {},
   "outputs": [
    {
     "data": {
      "text/plain": [
       "SVC(C=1.0, cache_size=200, class_weight=None, coef0=0.0,\n",
       "  decision_function_shape='ovr', degree=8, gamma='auto', kernel='poly',\n",
       "  max_iter=-1, probability=False, random_state=None, shrinking=True,\n",
       "  tol=0.001, verbose=False)"
      ]
     },
     "execution_count": 48,
     "metadata": {},
     "output_type": "execute_result"
    }
   ],
   "source": [
    "poly_SVC.fit(X_train,y_train)"
   ]
  },
  {
   "cell_type": "code",
   "execution_count": 49,
   "metadata": {},
   "outputs": [],
   "source": [
    "pre_pol_SVC=poly_SVC.predict(X_test)"
   ]
  },
  {
   "cell_type": "code",
   "execution_count": 50,
   "metadata": {},
   "outputs": [
    {
     "name": "stdout",
     "output_type": "stream",
     "text": [
      "95.24599226091763\n"
     ]
    }
   ],
   "source": [
    "print(accuracy_score(pre_pol_SVC,y_test)*100)"
   ]
  },
  {
   "cell_type": "code",
   "execution_count": 51,
   "metadata": {},
   "outputs": [
    {
     "name": "stdout",
     "output_type": "stream",
     "text": [
      "             precision    recall  f1-score   support\n",
      "\n",
      "          0       1.00      0.95      0.98      1809\n",
      "          1       0.00      0.00      0.00         0\n",
      "          2       0.00      0.00      0.00         0\n",
      "\n",
      "avg / total       1.00      0.95      0.98      1809\n",
      "\n"
     ]
    },
    {
     "name": "stderr",
     "output_type": "stream",
     "text": [
      "C:\\Users\\Mehak Sood\\Anaconda3\\lib\\site-packages\\sklearn\\metrics\\classification.py:1137: UndefinedMetricWarning: Recall and F-score are ill-defined and being set to 0.0 in labels with no true samples.\n",
      "  'recall', 'true', average, warn_for)\n"
     ]
    }
   ],
   "source": [
    "print(classification_report(pre_pol_SVC,y_test))"
   ]
  },
  {
   "cell_type": "code",
   "execution_count": 52,
   "metadata": {},
   "outputs": [
    {
     "name": "stdout",
     "output_type": "stream",
     "text": [
      "[[1723   20   66]\n",
      " [   0    0    0]\n",
      " [   0    0    0]]\n"
     ]
    }
   ],
   "source": [
    "print(confusion_matrix(pre_pol_SVC,y_test))"
   ]
  },
  {
   "cell_type": "code",
   "execution_count": 53,
   "metadata": {},
   "outputs": [
    {
     "name": "stdout",
     "output_type": "stream",
     "text": [
      "0.9756511891279728\n"
     ]
    },
    {
     "name": "stderr",
     "output_type": "stream",
     "text": [
      "C:\\Users\\Mehak Sood\\Anaconda3\\lib\\site-packages\\sklearn\\metrics\\classification.py:1137: UndefinedMetricWarning: F-score is ill-defined and being set to 0.0 in labels with no true samples.\n",
      "  'recall', 'true', average, warn_for)\n"
     ]
    }
   ],
   "source": [
    "f1_pol_SVC = f1_score(pre_pol_SVC,y_test,average='weighted')\n",
    "print(f1_pol_SVC)"
   ]
  },
  {
   "cell_type": "code",
   "execution_count": 54,
   "metadata": {},
   "outputs": [
    {
     "data": {
      "text/plain": [
       "SVC(C=1.0, cache_size=200, class_weight=None, coef0=0.0,\n",
       "  decision_function_shape='ovr', degree=3, gamma='auto', kernel='rbf',\n",
       "  max_iter=-1, probability=False, random_state=None, shrinking=True,\n",
       "  tol=0.001, verbose=False)"
      ]
     },
     "execution_count": 54,
     "metadata": {},
     "output_type": "execute_result"
    }
   ],
   "source": [
    "gass_SVC = SVC(kernel=\"rbf\")\n",
    "gass_SVC.fit(X_train,y_train)"
   ]
  },
  {
   "cell_type": "code",
   "execution_count": 55,
   "metadata": {},
   "outputs": [],
   "source": [
    "pre_gas_SVC= gass_SVC.predict(X_test)"
   ]
  },
  {
   "cell_type": "code",
   "execution_count": 56,
   "metadata": {},
   "outputs": [
    {
     "name": "stdout",
     "output_type": "stream",
     "text": [
      "             precision    recall  f1-score   support\n",
      "\n",
      "          0       0.99      0.96      0.97      1779\n",
      "          1       0.00      0.00      0.00         0\n",
      "          2       0.21      0.47      0.29        30\n",
      "\n",
      "avg / total       0.98      0.95      0.96      1809\n",
      "\n"
     ]
    },
    {
     "name": "stderr",
     "output_type": "stream",
     "text": [
      "C:\\Users\\Mehak Sood\\Anaconda3\\lib\\site-packages\\sklearn\\metrics\\classification.py:1137: UndefinedMetricWarning: Recall and F-score are ill-defined and being set to 0.0 in labels with no true samples.\n",
      "  'recall', 'true', average, warn_for)\n"
     ]
    }
   ],
   "source": [
    "print(classification_report(pre_gas_SVC,y_test))"
   ]
  },
  {
   "cell_type": "code",
   "execution_count": 57,
   "metadata": {},
   "outputs": [
    {
     "name": "stdout",
     "output_type": "stream",
     "text": [
      "95.13543394140409\n"
     ]
    }
   ],
   "source": [
    "print(accuracy_score(pre_gas_SVC,y_test)*100)"
   ]
  },
  {
   "cell_type": "code",
   "execution_count": 58,
   "metadata": {},
   "outputs": [
    {
     "name": "stdout",
     "output_type": "stream",
     "text": [
      "0.9635414052271798\n"
     ]
    },
    {
     "name": "stderr",
     "output_type": "stream",
     "text": [
      "C:\\Users\\Mehak Sood\\Anaconda3\\lib\\site-packages\\sklearn\\metrics\\classification.py:1137: UndefinedMetricWarning: F-score is ill-defined and being set to 0.0 in labels with no true samples.\n",
      "  'recall', 'true', average, warn_for)\n"
     ]
    }
   ],
   "source": [
    "f1_gas_SVC = f1_score(pre_gas_SVC,y_test,average='weighted')\n",
    "print(f1_gas_SVC)"
   ]
  },
  {
   "cell_type": "code",
   "execution_count": 59,
   "metadata": {},
   "outputs": [],
   "source": [
    "def check(strg):\n",
    "    a=[]\n",
    "    from nltk.tokenize import word_tokenize\n",
    "    nltk.download(\"punkt\")\n",
    "    word_tokens = word_tokenize(strg)\n",
    "    \n",
    "    for w in word_tokens:\n",
    "        if w not in stopword:\n",
    "                a.append(w)\n",
    "    vec = text.TfidfVectorizer()\n",
    "    st =  vec.fit_transform(a)\n",
    "    return st"
   ]
  },
  {
   "cell_type": "code",
   "execution_count": 60,
   "metadata": {},
   "outputs": [],
   "source": [
    "strn = \"i need supplies\""
   ]
  },
  {
   "cell_type": "code",
   "execution_count": 61,
   "metadata": {},
   "outputs": [
    {
     "name": "stdout",
     "output_type": "stream",
     "text": [
      "[nltk_data] Downloading package punkt to C:\\Users\\Mehak\n",
      "[nltk_data]     Sood\\AppData\\Roaming\\nltk_data...\n",
      "[nltk_data]   Package punkt is already up-to-date!\n"
     ]
    }
   ],
   "source": [
    "abc = check(strn)"
   ]
  },
  {
   "cell_type": "code",
   "execution_count": 62,
   "metadata": {},
   "outputs": [
    {
     "data": {
      "text/plain": [
       "array([1, 2], dtype=int64)"
      ]
     },
     "execution_count": 62,
     "metadata": {},
     "output_type": "execute_result"
    }
   ],
   "source": [
    "gass.predict(abc.todense())"
   ]
  },
  {
   "cell_type": "code",
   "execution_count": 63,
   "metadata": {},
   "outputs": [
    {
     "data": {
      "text/plain": [
       "array([2, 2], dtype=int64)"
      ]
     },
     "execution_count": 63,
     "metadata": {},
     "output_type": "execute_result"
    }
   ],
   "source": [
    "linear_svc.predict(abc)"
   ]
  },
  {
   "cell_type": "markdown",
   "metadata": {},
   "source": [
    "Decision Tree Classifier"
   ]
  },
  {
   "cell_type": "code",
   "execution_count": 64,
   "metadata": {},
   "outputs": [],
   "source": [
    "from sklearn.tree import DecisionTreeClassifier"
   ]
  },
  {
   "cell_type": "code",
   "execution_count": 65,
   "metadata": {},
   "outputs": [
    {
     "data": {
      "text/plain": [
       "DecisionTreeClassifier(class_weight=None, criterion='gini', max_depth=None,\n",
       "            max_features=None, max_leaf_nodes=None,\n",
       "            min_impurity_decrease=0.0, min_impurity_split=None,\n",
       "            min_samples_leaf=1, min_samples_split=2,\n",
       "            min_weight_fraction_leaf=0.0, presort=False, random_state=None,\n",
       "            splitter='best')"
      ]
     },
     "execution_count": 65,
     "metadata": {},
     "output_type": "execute_result"
    }
   ],
   "source": [
    "DTree = DecisionTreeClassifier()\n",
    "DTree.fit(X_train,y_train)"
   ]
  },
  {
   "cell_type": "code",
   "execution_count": 66,
   "metadata": {},
   "outputs": [],
   "source": [
    "pre_DTree = DTree.predict(X_test)"
   ]
  },
  {
   "cell_type": "code",
   "execution_count": 67,
   "metadata": {},
   "outputs": [
    {
     "name": "stdout",
     "output_type": "stream",
     "text": [
      "             precision    recall  f1-score   support\n",
      "\n",
      "          0       0.99      0.96      0.98      1771\n",
      "          1       0.15      0.60      0.24         5\n",
      "          2       0.24      0.48      0.32        33\n",
      "\n",
      "avg / total       0.97      0.95      0.96      1809\n",
      "\n"
     ]
    }
   ],
   "source": [
    "print(classification_report(pre_DTree,y_test))"
   ]
  },
  {
   "cell_type": "code",
   "execution_count": 68,
   "metadata": {},
   "outputs": [
    {
     "name": "stdout",
     "output_type": "stream",
     "text": [
      "[[1706   16   49]\n",
      " [   1    3    1]\n",
      " [  16    1   16]]\n"
     ]
    }
   ],
   "source": [
    "print(confusion_matrix(pre_DTree,y_test))"
   ]
  },
  {
   "cell_type": "code",
   "execution_count": 69,
   "metadata": {},
   "outputs": [
    {
     "name": "stdout",
     "output_type": "stream",
     "text": [
      "0.9535655058043118\n"
     ]
    }
   ],
   "source": [
    "print(accuracy_score(pre_DTree,y_test))"
   ]
  },
  {
   "cell_type": "code",
   "execution_count": 70,
   "metadata": {},
   "outputs": [
    {
     "name": "stdout",
     "output_type": "stream",
     "text": [
      "0.9625778968373381\n"
     ]
    }
   ],
   "source": [
    "f1_DTree = f1_score(pre_DTree,y_test,average=\"weighted\")\n",
    "print(f1_DTree)"
   ]
  },
  {
   "cell_type": "markdown",
   "metadata": {},
   "source": [
    "Random Forest Classifier"
   ]
  },
  {
   "cell_type": "code",
   "execution_count": 71,
   "metadata": {},
   "outputs": [],
   "source": [
    "from sklearn.ensemble import RandomForestClassifier"
   ]
  },
  {
   "cell_type": "code",
   "execution_count": 72,
   "metadata": {},
   "outputs": [],
   "source": [
    "RandT = RandomForestClassifier(n_estimators=100,n_jobs=2,random_state=7)"
   ]
  },
  {
   "cell_type": "code",
   "execution_count": 73,
   "metadata": {},
   "outputs": [
    {
     "data": {
      "text/plain": [
       "RandomForestClassifier(bootstrap=True, class_weight=None, criterion='gini',\n",
       "            max_depth=None, max_features='auto', max_leaf_nodes=None,\n",
       "            min_impurity_decrease=0.0, min_impurity_split=None,\n",
       "            min_samples_leaf=1, min_samples_split=2,\n",
       "            min_weight_fraction_leaf=0.0, n_estimators=100, n_jobs=2,\n",
       "            oob_score=False, random_state=7, verbose=0, warm_start=False)"
      ]
     },
     "execution_count": 73,
     "metadata": {},
     "output_type": "execute_result"
    }
   ],
   "source": [
    "RandT.fit(X_train,y_train)"
   ]
  },
  {
   "cell_type": "code",
   "execution_count": 74,
   "metadata": {},
   "outputs": [],
   "source": [
    "pre_RandT = RandT.predict(X_test)"
   ]
  },
  {
   "cell_type": "code",
   "execution_count": 75,
   "metadata": {},
   "outputs": [
    {
     "name": "stdout",
     "output_type": "stream",
     "text": [
      "             precision    recall  f1-score   support\n",
      "\n",
      "          0       0.99      0.96      0.98      1770\n",
      "          1       0.15      0.50      0.23         6\n",
      "          2       0.24      0.48      0.32        33\n",
      "\n",
      "avg / total       0.97      0.95      0.96      1809\n",
      "\n"
     ]
    }
   ],
   "source": [
    "print(classification_report(pre_RandT,y_test))"
   ]
  },
  {
   "cell_type": "code",
   "execution_count": 76,
   "metadata": {},
   "outputs": [
    {
     "name": "stdout",
     "output_type": "stream",
     "text": [
      "[[1705   16   49]\n",
      " [   2    3    1]\n",
      " [  16    1   16]]\n"
     ]
    }
   ],
   "source": [
    "print(confusion_matrix(pre_RandT,y_test))"
   ]
  },
  {
   "cell_type": "code",
   "execution_count": 77,
   "metadata": {},
   "outputs": [
    {
     "name": "stdout",
     "output_type": "stream",
     "text": [
      "0.953012714206744\n"
     ]
    }
   ],
   "source": [
    "print(accuracy_score(pre_RandT,y_test))"
   ]
  },
  {
   "cell_type": "code",
   "execution_count": 78,
   "metadata": {},
   "outputs": [
    {
     "name": "stdout",
     "output_type": "stream",
     "text": [
      "0.961853443632923\n"
     ]
    }
   ],
   "source": [
    "f1_RandT = f1_score(pre_RandT,y_test,average=\"weighted\")\n",
    "print(f1_RandT)"
   ]
  },
  {
   "cell_type": "code",
   "execution_count": 79,
   "metadata": {},
   "outputs": [],
   "source": [
    "from sklearn.ensemble import VotingClassifier\n",
    "from sklearn.linear_model import LogisticRegression\n",
    "from sklearn.svm import SVC\n",
    "from sklearn.cluster import KMeans\n",
    "from sklearn.naive_bayes import GaussianNB\n",
    "from sklearn.neighbors import KNeighborsClassifier"
   ]
  },
  {
   "cell_type": "code",
   "execution_count": 80,
   "metadata": {},
   "outputs": [],
   "source": [
    "estimater = []\n",
    "model1 = LogisticRegression()\n",
    "estimater.append((\"Logistic\",model1))\n",
    "model2 = KMeans()\n",
    "estimater.append((\"KMeans\",model2))\n",
    "model3 = SVC(kernel=\"rbf\")\n",
    "estimater.append((\"SVC\",model3))\n",
    "model4 = GaussianNB()\n",
    "estimater.append((\"Gaussian\",model4))\n",
    "model5 =  KNeighborsClassifier()\n",
    "estimater.append((\"KNN\",model5))"
   ]
  },
  {
   "cell_type": "code",
   "execution_count": 81,
   "metadata": {},
   "outputs": [],
   "source": [
    "Voti = VotingClassifier(estimater)"
   ]
  },
  {
   "cell_type": "code",
   "execution_count": 82,
   "metadata": {},
   "outputs": [
    {
     "data": {
      "text/plain": [
       "VotingClassifier(estimators=[('Logistic', LogisticRegression(C=1.0, class_weight=None, dual=False, fit_intercept=True,\n",
       "          intercept_scaling=1, max_iter=100, multi_class='ovr', n_jobs=1,\n",
       "          penalty='l2', random_state=None, solver='liblinear', tol=0.0001,\n",
       "          verbose=0, warm_start=False)), ('KMeans...owski',\n",
       "           metric_params=None, n_jobs=1, n_neighbors=5, p=2,\n",
       "           weights='uniform'))],\n",
       "         flatten_transform=None, n_jobs=1, voting='hard', weights=None)"
      ]
     },
     "execution_count": 82,
     "metadata": {},
     "output_type": "execute_result"
    }
   ],
   "source": [
    "Voti.fit(X_train.todense(),y_train)"
   ]
  },
  {
   "cell_type": "code",
   "execution_count": 83,
   "metadata": {},
   "outputs": [
    {
     "name": "stderr",
     "output_type": "stream",
     "text": [
      "C:\\Users\\Mehak Sood\\Anaconda3\\lib\\site-packages\\sklearn\\preprocessing\\label.py:151: DeprecationWarning: The truth value of an empty array is ambiguous. Returning False, but in future this will result in an error. Use `array.size > 0` to check that an array is not empty.\n",
      "  if diff:\n"
     ]
    }
   ],
   "source": [
    "pre_Voti = Voti.predict(X_test.todense())"
   ]
  },
  {
   "cell_type": "code",
   "execution_count": 84,
   "metadata": {},
   "outputs": [
    {
     "name": "stdout",
     "output_type": "stream",
     "text": [
      "             precision    recall  f1-score   support\n",
      "\n",
      "          0       0.99      0.96      0.98      1785\n",
      "          1       0.00      0.00      0.00         0\n",
      "          2       0.18      0.50      0.27        24\n",
      "\n",
      "avg / total       0.98      0.95      0.97      1809\n",
      "\n"
     ]
    },
    {
     "name": "stderr",
     "output_type": "stream",
     "text": [
      "C:\\Users\\Mehak Sood\\Anaconda3\\lib\\site-packages\\sklearn\\metrics\\classification.py:1137: UndefinedMetricWarning: Recall and F-score are ill-defined and being set to 0.0 in labels with no true samples.\n",
      "  'recall', 'true', average, warn_for)\n"
     ]
    }
   ],
   "source": [
    "print(classification_report(pre_Voti,y_test))"
   ]
  },
  {
   "cell_type": "code",
   "execution_count": 85,
   "metadata": {},
   "outputs": [
    {
     "name": "stdout",
     "output_type": "stream",
     "text": [
      "[[1711   20   54]\n",
      " [   0    0    0]\n",
      " [  12    0   12]]\n"
     ]
    }
   ],
   "source": [
    "print(confusion_matrix(pre_Voti,y_test))"
   ]
  },
  {
   "cell_type": "code",
   "execution_count": 86,
   "metadata": {},
   "outputs": [
    {
     "name": "stdout",
     "output_type": "stream",
     "text": [
      "0.9524599226091763\n"
     ]
    }
   ],
   "source": [
    "print(accuracy_score(pre_Voti,y_test))"
   ]
  },
  {
   "cell_type": "code",
   "execution_count": 87,
   "metadata": {},
   "outputs": [
    {
     "name": "stdout",
     "output_type": "stream",
     "text": [
      "0.966080720179667\n"
     ]
    },
    {
     "name": "stderr",
     "output_type": "stream",
     "text": [
      "C:\\Users\\Mehak Sood\\Anaconda3\\lib\\site-packages\\sklearn\\metrics\\classification.py:1137: UndefinedMetricWarning: F-score is ill-defined and being set to 0.0 in labels with no true samples.\n",
      "  'recall', 'true', average, warn_for)\n"
     ]
    }
   ],
   "source": [
    "f1_Voti = f1_score(pre_Voti,y_test,average=\"weighted\")\n",
    "print(f1_Voti)"
   ]
  },
  {
   "cell_type": "code",
   "execution_count": 88,
   "metadata": {},
   "outputs": [],
   "source": [
    "app_algo = [\"Gassuian Naive Bayes\",\"Multinomial Naive Bayes\",\"Linear SVC\",\"Polynomial_SVC\",\"Gassuian SVC\",\"Decision Tree\",\"Random Forest\",\"Voting\"]\n",
    "F1_res = [f1_gass,f1_multi,f1_lin_SVC,f1_pol_SVC,f1_gas_SVC,f1_DTree,f1_RandT,f1_Voti]"
   ]
  },
  {
   "cell_type": "code",
   "execution_count": 89,
   "metadata": {
    "scrolled": true
   },
   "outputs": [
    {
     "data": {
      "text/html": [
       "<div>\n",
       "<style scoped>\n",
       "    .dataframe tbody tr th:only-of-type {\n",
       "        vertical-align: middle;\n",
       "    }\n",
       "\n",
       "    .dataframe tbody tr th {\n",
       "        vertical-align: top;\n",
       "    }\n",
       "\n",
       "    .dataframe thead th {\n",
       "        text-align: right;\n",
       "    }\n",
       "</style>\n",
       "<table border=\"1\" class=\"dataframe\">\n",
       "  <thead>\n",
       "    <tr style=\"text-align: right;\">\n",
       "      <th></th>\n",
       "      <th>Algo</th>\n",
       "      <th>F1 score</th>\n",
       "    </tr>\n",
       "  </thead>\n",
       "  <tbody>\n",
       "    <tr>\n",
       "      <th>1</th>\n",
       "      <td>Gassuian Naive Bayes</td>\n",
       "      <td>0.949488</td>\n",
       "    </tr>\n",
       "    <tr>\n",
       "      <th>2</th>\n",
       "      <td>Multinomial Naive Bayes</td>\n",
       "      <td>0.975651</td>\n",
       "    </tr>\n",
       "    <tr>\n",
       "      <th>3</th>\n",
       "      <td>Linear SVC</td>\n",
       "      <td>0.964256</td>\n",
       "    </tr>\n",
       "    <tr>\n",
       "      <th>4</th>\n",
       "      <td>Polynomial_SVC</td>\n",
       "      <td>0.975651</td>\n",
       "    </tr>\n",
       "    <tr>\n",
       "      <th>5</th>\n",
       "      <td>Gassuian SVC</td>\n",
       "      <td>0.963541</td>\n",
       "    </tr>\n",
       "    <tr>\n",
       "      <th>6</th>\n",
       "      <td>Decision Tree</td>\n",
       "      <td>0.962578</td>\n",
       "    </tr>\n",
       "    <tr>\n",
       "      <th>7</th>\n",
       "      <td>Random Forest</td>\n",
       "      <td>0.961853</td>\n",
       "    </tr>\n",
       "    <tr>\n",
       "      <th>8</th>\n",
       "      <td>Voting</td>\n",
       "      <td>0.966081</td>\n",
       "    </tr>\n",
       "  </tbody>\n",
       "</table>\n",
       "</div>"
      ],
      "text/plain": [
       "                      Algo  F1 score\n",
       "1     Gassuian Naive Bayes  0.949488\n",
       "2  Multinomial Naive Bayes  0.975651\n",
       "3               Linear SVC  0.964256\n",
       "4           Polynomial_SVC  0.975651\n",
       "5             Gassuian SVC  0.963541\n",
       "6            Decision Tree  0.962578\n",
       "7            Random Forest  0.961853\n",
       "8                   Voting  0.966081"
      ]
     },
     "execution_count": 89,
     "metadata": {},
     "output_type": "execute_result"
    }
   ],
   "source": [
    "results = pd.DataFrame({\"Algo\":app_algo,\"F1 score\":F1_res},index=[1,2,3,4,5,6,7,8])\n",
    "results"
   ]
  },
  {
   "cell_type": "markdown",
   "metadata": {},
   "source": [
    "From the above seen results the algo that's working best for the data in train set seems to be Gaussian Naive bayes as its the only one that is classifying in all the classes"
   ]
  }
 ],
 "metadata": {
  "celltoolbar": "Raw Cell Format",
  "kernelspec": {
   "display_name": "Python 3",
   "language": "python",
   "name": "python3"
  },
  "language_info": {
   "codemirror_mode": {
    "name": "ipython",
    "version": 3
   },
   "file_extension": ".py",
   "mimetype": "text/x-python",
   "name": "python",
   "nbconvert_exporter": "python",
   "pygments_lexer": "ipython3",
   "version": "3.6.5"
  }
 },
 "nbformat": 4,
 "nbformat_minor": 2
}
